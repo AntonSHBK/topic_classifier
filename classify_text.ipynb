{
 "cells": [
  {
   "cell_type": "code",
   "execution_count": 154,
   "metadata": {},
   "outputs": [],
   "source": [
    "import tensorflow as tf\n",
    "import pandas\n",
    "import numpy as np\n",
    "import  matplotlib.pyplot as plt\n",
    "import re\n",
    "import math\n",
    "from keras.preprocessing.text import Tokenizer\n",
    "from keras.utils import pad_sequences"
   ]
  },
  {
   "attachments": {},
   "cell_type": "markdown",
   "metadata": {},
   "source": [
    "# Гиперпараметры"
   ]
  },
  {
   "cell_type": "code",
   "execution_count": 155,
   "metadata": {},
   "outputs": [],
   "source": [
    "vocab_size = 4000\n",
    "embedding_dim = 64\n",
    "max_length = 200\n",
    "trunc_type = 'post'\n",
    "padding_type = 'post'\n",
    "oov_tok = '<word>'\n",
    "training_portion = 0.7\n",
    "num_epochs = 20"
   ]
  },
  {
   "attachments": {},
   "cell_type": "markdown",
   "metadata": {},
   "source": [
    "## Считываем данные из файла"
   ]
  },
  {
   "cell_type": "code",
   "execution_count": 156,
   "metadata": {},
   "outputs": [
    {
     "data": {
      "text/html": [
       "<div>\n",
       "<style scoped>\n",
       "    .dataframe tbody tr th:only-of-type {\n",
       "        vertical-align: middle;\n",
       "    }\n",
       "\n",
       "    .dataframe tbody tr th {\n",
       "        vertical-align: top;\n",
       "    }\n",
       "\n",
       "    .dataframe thead th {\n",
       "        text-align: right;\n",
       "    }\n",
       "</style>\n",
       "<table border=\"1\" class=\"dataframe\">\n",
       "  <thead>\n",
       "    <tr style=\"text-align: right;\">\n",
       "      <th></th>\n",
       "      <th>description</th>\n",
       "      <th>name</th>\n",
       "    </tr>\n",
       "  </thead>\n",
       "  <tbody>\n",
       "    <tr>\n",
       "      <th>0</th>\n",
       "      <td>&lt;p&gt;первый подъезд, не убирают от слова совсем!...</td>\n",
       "      <td>Несвоевременная (некачественная) уборка мест о...</td>\n",
       "    </tr>\n",
       "    <tr>\n",
       "      <th>1</th>\n",
       "      <td>&lt;p&gt;Дорожное покрытие внутридворовой дороги по ...</td>\n",
       "      <td>Нарушено дорожное покрытие (ямы) на дорогах в ...</td>\n",
       "    </tr>\n",
       "    <tr>\n",
       "      <th>2</th>\n",
       "      <td>&lt;p&gt;Добрый день, в п. Батрацкая Дача очень редк...</td>\n",
       "      <td>Несвоевременная (некачественная) очистка дворо...</td>\n",
       "    </tr>\n",
       "    <tr>\n",
       "      <th>3</th>\n",
       "      <td>&lt;p&gt;Добрый день. &amp;nbsp;В доме по адресу Садовая...</td>\n",
       "      <td>Длительное неисполнение заявок управляющей ком...</td>\n",
       "    </tr>\n",
       "    <tr>\n",
       "      <th>4</th>\n",
       "      <td>&lt;p&gt;Хочется обратить внимание транспортного отд...</td>\n",
       "      <td>Нарушение графика движения при осуществлении м...</td>\n",
       "    </tr>\n",
       "  </tbody>\n",
       "</table>\n",
       "</div>"
      ],
      "text/plain": [
       "                                         description  \\\n",
       "0  <p>первый подъезд, не убирают от слова совсем!...   \n",
       "1  <p>Дорожное покрытие внутридворовой дороги по ...   \n",
       "2  <p>Добрый день, в п. Батрацкая Дача очень редк...   \n",
       "3  <p>Добрый день. &nbsp;В доме по адресу Садовая...   \n",
       "4  <p>Хочется обратить внимание транспортного отд...   \n",
       "\n",
       "                                                name  \n",
       "0  Несвоевременная (некачественная) уборка мест о...  \n",
       "1  Нарушено дорожное покрытие (ямы) на дорогах в ...  \n",
       "2  Несвоевременная (некачественная) очистка дворо...  \n",
       "3  Длительное неисполнение заявок управляющей ком...  \n",
       "4  Нарушение графика движения при осуществлении м...  "
      ]
     },
     "execution_count": 156,
     "metadata": {},
     "output_type": "execute_result"
    }
   ],
   "source": [
    "data_frame = pandas.read_excel('text.xlsx')\n",
    "data_frame.head()"
   ]
  },
  {
   "attachments": {},
   "cell_type": "markdown",
   "metadata": {},
   "source": [
    "## Функция удаления тегов и посторонних символов"
   ]
  },
  {
   "cell_type": "code",
   "execution_count": 157,
   "metadata": {},
   "outputs": [],
   "source": [
    "CLEANR = re.compile('<.*?>|&([a-z0-9]+|#[0-9]{1,6}|#x[0-9a-f]{1,6});')\n",
    "def cleanhtml(raw_html):\n",
    "  cleantext = re.sub(CLEANR, '', raw_html)\n",
    "  return cleantext"
   ]
  },
  {
   "attachments": {},
   "cell_type": "markdown",
   "metadata": {},
   "source": [
    "## Формирование набора данных, удаление пропущенных строк и объединение строк"
   ]
  },
  {
   "cell_type": "code",
   "execution_count": 158,
   "metadata": {},
   "outputs": [],
   "source": [
    "descriptions = []\n",
    "labels = []\n",
    "for index in range(len(data_frame)):\n",
    "    try:\n",
    "        if math.isnan(data_frame.name[index]):\n",
    "            try:\n",
    "                if math.isnan(data_frame.description[index]):\n",
    "                    continue\n",
    "            except:\n",
    "                val+=cleanhtml(data_frame.description[index])\n",
    "    except:\n",
    "        if index > 0:\n",
    "            descriptions.append(val)\n",
    "            labels.append(label)\n",
    "        label = cleanhtml(data_frame.name[index])\n",
    "        val = cleanhtml(data_frame.description[index])\n",
    "descriptions.append(val)\n",
    "labels.append(label)"
   ]
  },
  {
   "cell_type": "code",
   "execution_count": 159,
   "metadata": {},
   "outputs": [
    {
     "name": "stdout",
     "output_type": "stream",
     "text": [
      "9981\n",
      "9465\n",
      "9465\n"
     ]
    }
   ],
   "source": [
    "print(len(data_frame))\n",
    "print(len(descriptions))\n",
    "print(len(labels))"
   ]
  },
  {
   "attachments": {},
   "cell_type": "markdown",
   "metadata": {},
   "source": [
    "## Создание словаря категорий"
   ]
  },
  {
   "cell_type": "code",
   "execution_count": 160,
   "metadata": {},
   "outputs": [
    {
     "name": "stdout",
     "output_type": "stream",
     "text": [
      "Количество уникальных меток 161\n"
     ]
    }
   ],
   "source": [
    "label_dictionary = {}\n",
    "for label in labels:\n",
    "    if label not in label_dictionary:\n",
    "        label_dictionary[label]=len(label_dictionary)\n",
    "\n",
    "size_of_label = len(label_dictionary)\n",
    "print('Количество уникальных меток', size_of_label)"
   ]
  },
  {
   "attachments": {},
   "cell_type": "markdown",
   "metadata": {},
   "source": [
    "## Формирование набора меток по категориям"
   ]
  },
  {
   "cell_type": "code",
   "execution_count": 161,
   "metadata": {},
   "outputs": [
    {
     "name": "stdout",
     "output_type": "stream",
     "text": [
      "[0 1 2 3 4 5 6 6 7 1]\n",
      "(9465,)\n"
     ]
    }
   ],
   "source": [
    "categorical_labels = []\n",
    "for label in labels:\n",
    "    categorical_labels.append(label_dictionary[label])\n",
    "\n",
    "\n",
    "categorical_labels=np.array(categorical_labels)\n",
    "print(categorical_labels[:10])\n",
    "print(categorical_labels.shape)"
   ]
  },
  {
   "attachments": {},
   "cell_type": "markdown",
   "metadata": {},
   "source": [
    "## Формирование обучающего и проверочного набора данных"
   ]
  },
  {
   "cell_type": "code",
   "execution_count": 162,
   "metadata": {},
   "outputs": [
    {
     "name": "stdout",
     "output_type": "stream",
     "text": [
      "6625\n",
      "6625\n",
      "2840\n",
      "2840\n"
     ]
    }
   ],
   "source": [
    "train_size = int(len(descriptions) * training_portion)\n",
    "\n",
    "train_descriptions = descriptions[0: train_size]\n",
    "train_labels = categorical_labels[0: train_size]\n",
    "\n",
    "validation_descriptions= descriptions[train_size:]\n",
    "validation_labels = categorical_labels[train_size:]\n",
    "\n",
    "\n",
    "print(len(train_descriptions))\n",
    "print(len(train_labels))\n",
    "print(len(validation_descriptions))\n",
    "print(len(validation_labels))"
   ]
  },
  {
   "attachments": {},
   "cell_type": "markdown",
   "metadata": {},
   "source": [
    "## Токенизация данных"
   ]
  },
  {
   "cell_type": "code",
   "execution_count": 163,
   "metadata": {},
   "outputs": [
    {
     "data": {
      "text/plain": [
       "{'<OOV>': 1, 'и': 2, 'на': 3, 'в': 4, 'с': 5}"
      ]
     },
     "execution_count": 163,
     "metadata": {},
     "output_type": "execute_result"
    }
   ],
   "source": [
    "description_tokenizer = Tokenizer(num_words = vocab_size, oov_token=oov_tok)\n",
    "description_tokenizer.fit_on_texts(train_descriptions)\n",
    "description_word_index = description_tokenizer.word_index\n",
    "dict(list(description_word_index.items())[0:5])"
   ]
  },
  {
   "cell_type": "code",
   "execution_count": 164,
   "metadata": {},
   "outputs": [
    {
     "name": "stdout",
     "output_type": "stream",
     "text": [
      "[[875, 201, 7, 1588, 8, 1945, 660, 2429, 96, 1, 2, 50, 92, 1, 87, 284, 24, 647, 898, 30, 1, 786, 6, 1, 1, 118, 50, 160, 1278, 202, 1, 146, 92, 32, 19, 23, 1832, 410], [361, 182, 1, 86, 12, 148, 3, 1, 5, 86, 25, 140, 3, 266, 661, 408, 141, 662, 497, 3680, 69, 207, 4, 1589, 1, 181, 344, 2, 925, 1, 1026, 139, 115, 4, 2657, 1445, 303, 344, 1, 1, 19, 2085, 926, 34, 30, 420, 38, 34, 1, 4, 804, 145, 1, 510, 38, 2, 30, 1, 12, 1062, 3681, 38, 34, 733, 3682, 144, 1, 2086, 1833, 1, 1027, 44, 344]]\n"
     ]
    }
   ],
   "source": [
    "train_sequences = description_tokenizer.texts_to_sequences(train_descriptions)\n",
    "print(train_sequences[:2])"
   ]
  },
  {
   "cell_type": "code",
   "execution_count": 165,
   "metadata": {},
   "outputs": [
    {
     "name": "stdout",
     "output_type": "stream",
     "text": [
      "38\n",
      "200\n",
      "6625\n",
      "(6625, 200)\n"
     ]
    }
   ],
   "source": [
    "train_padded = pad_sequences(train_sequences, maxlen=max_length, padding=padding_type, truncating=trunc_type)\n",
    "print(len(train_sequences[0]))\n",
    "print(len(train_padded[0]))\n",
    "print(len(train_padded))\n",
    "print(train_padded.shape)"
   ]
  },
  {
   "cell_type": "code",
   "execution_count": 166,
   "metadata": {},
   "outputs": [
    {
     "name": "stdout",
     "output_type": "stream",
     "text": [
      "2840\n",
      "(2840, 200)\n"
     ]
    }
   ],
   "source": [
    "validation_sequences = description_tokenizer.texts_to_sequences(validation_descriptions)\n",
    "validation_padded = pad_sequences(validation_sequences, maxlen=max_length, padding=padding_type, truncating=trunc_type)\n",
    "\n",
    "print(len(validation_sequences))\n",
    "print(validation_padded.shape)"
   ]
  },
  {
   "cell_type": "code",
   "execution_count": 167,
   "metadata": {},
   "outputs": [
    {
     "name": "stdout",
     "output_type": "stream",
     "text": [
      "[0 1 2]\n"
     ]
    }
   ],
   "source": [
    "print(train_labels[:3])"
   ]
  },
  {
   "attachments": {},
   "cell_type": "markdown",
   "metadata": {},
   "source": [
    "## Проверка, процесс декодирования"
   ]
  },
  {
   "cell_type": "code",
   "execution_count": 168,
   "metadata": {},
   "outputs": [
    {
     "name": "stdout",
     "output_type": "stream",
     "text": [
      "дорожное покрытие <OOV> дороги по адресу на <OOV> с дороги проспекта победы на м н королёва между домами 29 29а 4 находится в плачевном <OOV> состоянии ямы и неровности <OOV> безопасность дорожного движения в дождливую погоду дорога ямы <OOV> <OOV> что создает опасность как для автомобилей так как <OOV> в такие можно <OOV> авто так и для <OOV> по тротуару прохожих так как большая вероятность быть <OOV> той самой <OOV> водой из ямы ? ? ? ? ? ? ? ? ? ? ? ? ? ? ? ? ? ? ? ? ? ? ? ? ? ? ? ? ? ? ? ? ? ? ? ? ? ? ? ? ? ? ? ? ? ? ? ? ? ? ? ? ? ? ? ? ? ? ? ? ? ? ? ? ? ? ? ? ? ? ? ? ? ? ? ? ? ? ? ? ? ? ? ? ? ? ? ? ? ? ? ? ? ? ? ? ? ? ? ? ? ? ? ? ? ? ? ? ? ? ? ? ? ? ? ? ? ? ? ? ? ? ? ? ? ? ?\n",
      "---\n",
      "Дорожное покрытие внутридворовой дороги по адресу: на съезде с дороги проспекта Победы на м-н Королёва между домами 29, 29а,4 находится в плачевном разбитом состоянии. Ямы и неровности снижают безопасность дорожного движения. В дождливую погоду дорога (ямы) покрыта лужами, что создает опасность как для автомобилей , так как попав в такие можно разбить авто, так и для проходящих по тротуару прохожих, так как большая вероятность быть облитым той самой грязной водой из ямы.\n"
     ]
    }
   ],
   "source": [
    "reverse_word_index = dict([(value, key) for (key, value) in description_word_index.items()])\n",
    "\n",
    "def decode_article(text):\n",
    "    return ' '.join([reverse_word_index.get(i, '?') for i in text])\n",
    "print(decode_article(train_padded[1]))\n",
    "print('---')\n",
    "print(train_descriptions[1])"
   ]
  },
  {
   "attachments": {},
   "cell_type": "markdown",
   "metadata": {},
   "source": [
    "## Создание обучающей модели"
   ]
  },
  {
   "cell_type": "code",
   "execution_count": 169,
   "metadata": {},
   "outputs": [
    {
     "name": "stdout",
     "output_type": "stream",
     "text": [
      "Model: \"sequential_6\"\n",
      "_________________________________________________________________\n",
      " Layer (type)                Output Shape              Param #   \n",
      "=================================================================\n",
      " embedding_6 (Embedding)     (None, None, 64)          256000    \n",
      "                                                                 \n",
      " bidirectional_6 (Bidirectio  (None, 128)              66048     \n",
      " nal)                                                            \n",
      "                                                                 \n",
      " dense_12 (Dense)            (None, 64)                8256      \n",
      "                                                                 \n",
      " dense_13 (Dense)            (None, 161)               10465     \n",
      "                                                                 \n",
      "=================================================================\n",
      "Total params: 340,769\n",
      "Trainable params: 340,769\n",
      "Non-trainable params: 0\n",
      "_________________________________________________________________\n"
     ]
    }
   ],
   "source": [
    "model = tf.keras.Sequential([\n",
    "    tf.keras.layers.Embedding(vocab_size, embedding_dim),\n",
    "    tf.keras.layers.Bidirectional(tf.keras.layers.LSTM(embedding_dim)),\n",
    "    tf.keras.layers.Dense(embedding_dim, activation='relu'),\n",
    "    tf.keras.layers.Dense(size_of_label, activation='softmax')\n",
    "])\n",
    "model.summary()"
   ]
  },
  {
   "attachments": {},
   "cell_type": "markdown",
   "metadata": {},
   "source": [
    "## Компиляция и обучение модели"
   ]
  },
  {
   "cell_type": "code",
   "execution_count": 170,
   "metadata": {},
   "outputs": [
    {
     "name": "stdout",
     "output_type": "stream",
     "text": [
      "Epoch 1/20\n",
      "208/208 - 25s - loss: 2.3587 - accuracy: 0.5663 - val_loss: 1.6121 - val_accuracy: 0.6627 - 25s/epoch - 120ms/step\n",
      "Epoch 2/20\n",
      "208/208 - 20s - loss: 1.8310 - accuracy: 0.5736 - val_loss: 1.5062 - val_accuracy: 0.6616 - 20s/epoch - 97ms/step\n",
      "Epoch 3/20\n",
      "208/208 - 20s - loss: 1.7380 - accuracy: 0.5796 - val_loss: 1.4509 - val_accuracy: 0.6630 - 20s/epoch - 97ms/step\n",
      "Epoch 4/20\n",
      "208/208 - 20s - loss: 1.6542 - accuracy: 0.6023 - val_loss: 1.4569 - val_accuracy: 0.6697 - 20s/epoch - 97ms/step\n",
      "Epoch 5/20\n",
      "208/208 - 20s - loss: 1.5413 - accuracy: 0.6237 - val_loss: 1.4901 - val_accuracy: 0.6708 - 20s/epoch - 96ms/step\n",
      "Epoch 6/20\n",
      "208/208 - 20s - loss: 1.4238 - accuracy: 0.6548 - val_loss: 1.4387 - val_accuracy: 0.6901 - 20s/epoch - 98ms/step\n",
      "Epoch 7/20\n",
      "208/208 - 20s - loss: 1.3001 - accuracy: 0.6833 - val_loss: 1.3926 - val_accuracy: 0.6968 - 20s/epoch - 97ms/step\n",
      "Epoch 8/20\n",
      "208/208 - 20s - loss: 1.1859 - accuracy: 0.7057 - val_loss: 1.4131 - val_accuracy: 0.7173 - 20s/epoch - 96ms/step\n",
      "Epoch 9/20\n",
      "208/208 - 20s - loss: 1.0578 - accuracy: 0.7390 - val_loss: 1.5507 - val_accuracy: 0.7148 - 20s/epoch - 97ms/step\n",
      "Epoch 10/20\n",
      "208/208 - 20s - loss: 0.9403 - accuracy: 0.7651 - val_loss: 1.5090 - val_accuracy: 0.7173 - 20s/epoch - 96ms/step\n",
      "Epoch 11/20\n",
      "208/208 - 20s - loss: 0.8253 - accuracy: 0.7956 - val_loss: 1.5722 - val_accuracy: 0.7134 - 20s/epoch - 97ms/step\n",
      "Epoch 12/20\n",
      "208/208 - 20s - loss: 0.7149 - accuracy: 0.8214 - val_loss: 1.5987 - val_accuracy: 0.7208 - 20s/epoch - 97ms/step\n",
      "Epoch 13/20\n",
      "208/208 - 20s - loss: 0.6409 - accuracy: 0.8368 - val_loss: 1.6879 - val_accuracy: 0.7278 - 20s/epoch - 98ms/step\n",
      "Epoch 14/20\n",
      "208/208 - 20s - loss: 0.5584 - accuracy: 0.8587 - val_loss: 1.8697 - val_accuracy: 0.7046 - 20s/epoch - 97ms/step\n",
      "Epoch 15/20\n",
      "208/208 - 20s - loss: 0.5170 - accuracy: 0.8657 - val_loss: 1.9248 - val_accuracy: 0.7261 - 20s/epoch - 97ms/step\n",
      "Epoch 16/20\n",
      "208/208 - 20s - loss: 0.4527 - accuracy: 0.8868 - val_loss: 1.9801 - val_accuracy: 0.7194 - 20s/epoch - 98ms/step\n",
      "Epoch 17/20\n",
      "208/208 - 20s - loss: 0.3800 - accuracy: 0.9013 - val_loss: 2.2089 - val_accuracy: 0.7194 - 20s/epoch - 97ms/step\n",
      "Epoch 18/20\n",
      "208/208 - 20s - loss: 0.4100 - accuracy: 0.8919 - val_loss: 2.2177 - val_accuracy: 0.7190 - 20s/epoch - 98ms/step\n",
      "Epoch 19/20\n",
      "208/208 - 21s - loss: 0.3263 - accuracy: 0.9155 - val_loss: 2.4930 - val_accuracy: 0.7211 - 21s/epoch - 99ms/step\n",
      "Epoch 20/20\n",
      "208/208 - 21s - loss: 0.2921 - accuracy: 0.9244 - val_loss: 2.4863 - val_accuracy: 0.7261 - 21s/epoch - 101ms/step\n"
     ]
    }
   ],
   "source": [
    "model.compile(loss='sparse_categorical_crossentropy', optimizer='adam', metrics=['accuracy'])\n",
    "history = model.fit(train_padded, train_labels, epochs=num_epochs, validation_data=(validation_padded, validation_labels), verbose=2)"
   ]
  },
  {
   "attachments": {},
   "cell_type": "markdown",
   "metadata": {},
   "source": [
    "## Вывод графического результата"
   ]
  },
  {
   "cell_type": "code",
   "execution_count": 171,
   "metadata": {},
   "outputs": [
    {
     "data": {
      "image/png": "[encoded data removed]",
      "text/plain": [
       "<Figure size 640x480 with 1 Axes>"
      ]
     },
     "metadata": {},
     "output_type": "display_data"
    },
    {
     "data": {
      "image/png": "[encoded data removed]",
      "text/plain": [
       "<Figure size 640x480 with 1 Axes>"
      ]
     },
     "metadata": {},
     "output_type": "display_data"
    }
   ],
   "source": [
    "def plot_graphs(history, string):\n",
    " plt.plot(history.history[string])\n",
    " plt.plot(history.history['val_'+string])\n",
    " plt.xlabel(\"Epochs\")\n",
    " plt.ylabel(string)\n",
    " plt.legend([string, 'val_'+string])\n",
    " plt.show()\n",
    "  \n",
    "plot_graphs(history, \"accuracy\")\n",
    "plot_graphs(history, \"loss\")"
   ]
  }
 ],
 "metadata": {
  "kernelspec": {
   "display_name": ".venv",
   "language": "python",
   "name": "python3"
  },
  "language_info": {
   "codemirror_mode": {
    "name": "ipython",
    "version": 3
   },
   "file_extension": ".py",
   "mimetype": "text/x-python",
   "name": "python",
   "nbconvert_exporter": "python",
   "pygments_lexer": "ipython3",
   "version": "3.10.2"
  },
  "orig_nbformat": 4,
  "vscode": {
   "interpreter": {
    "hash": "f6d60c7869343096bcf795f5fa0ddddd5115b547a3fcd73c4c7ea12b2eb5ff31"
   }
  }
 },
 "nbformat": 4,
 "nbformat_minor": 2
}

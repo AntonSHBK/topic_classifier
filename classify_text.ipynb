{
 "cells": [
  {
   "cell_type": "code",
   "execution_count": 49,
   "metadata": {},
   "outputs": [],
   "source": [
    "import tensorflow as tf\n",
    "import pandas\n",
    "import numpy as np\n",
    "import  matplotlib.pyplot as plt\n",
    "import re\n",
    "import math\n",
    "from keras.preprocessing.text import Tokenizer\n",
    "from keras.utils import pad_sequences\n",
    "import random"
   ]
  },
  {
   "attachments": {},
   "cell_type": "markdown",
   "metadata": {},
   "source": [
    "# Гиперпараметры"
   ]
  },
  {
   "cell_type": "code",
   "execution_count": 50,
   "metadata": {},
   "outputs": [],
   "source": [
    "vocab_size = 4000\n",
    "embedding_dim = 128\n",
    "max_length = 200\n",
    "trunc_type = 'post'\n",
    "padding_type = 'post'\n",
    "oov_tok = '<word>'\n",
    "training_portion = 0.7\n",
    "num_epochs = 20"
   ]
  },
  {
   "attachments": {},
   "cell_type": "markdown",
   "metadata": {},
   "source": [
    "## Считываем данные из файла"
   ]
  },
  {
   "cell_type": "code",
   "execution_count": 51,
   "metadata": {},
   "outputs": [
    {
     "data": {
      "text/html": [
       "<div>\n",
       "<style scoped>\n",
       "    .dataframe tbody tr th:only-of-type {\n",
       "        vertical-align: middle;\n",
       "    }\n",
       "\n",
       "    .dataframe tbody tr th {\n",
       "        vertical-align: top;\n",
       "    }\n",
       "\n",
       "    .dataframe thead th {\n",
       "        text-align: right;\n",
       "    }\n",
       "</style>\n",
       "<table border=\"1\" class=\"dataframe\">\n",
       "  <thead>\n",
       "    <tr style=\"text-align: right;\">\n",
       "      <th></th>\n",
       "      <th>description</th>\n",
       "      <th>name</th>\n",
       "    </tr>\n",
       "  </thead>\n",
       "  <tbody>\n",
       "    <tr>\n",
       "      <th>0</th>\n",
       "      <td>&lt;p&gt;первый подъезд, не убирают от слова совсем!...</td>\n",
       "      <td>Несвоевременная (некачественная) уборка мест о...</td>\n",
       "    </tr>\n",
       "    <tr>\n",
       "      <th>1</th>\n",
       "      <td>&lt;p&gt;Дорожное покрытие внутридворовой дороги по ...</td>\n",
       "      <td>Нарушено дорожное покрытие (ямы) на дорогах в ...</td>\n",
       "    </tr>\n",
       "    <tr>\n",
       "      <th>2</th>\n",
       "      <td>&lt;p&gt;Добрый день, в п. Батрацкая Дача очень редк...</td>\n",
       "      <td>Несвоевременная (некачественная) очистка дворо...</td>\n",
       "    </tr>\n",
       "    <tr>\n",
       "      <th>3</th>\n",
       "      <td>&lt;p&gt;Добрый день. &amp;nbsp;В доме по адресу Садовая...</td>\n",
       "      <td>Длительное неисполнение заявок управляющей ком...</td>\n",
       "    </tr>\n",
       "    <tr>\n",
       "      <th>4</th>\n",
       "      <td>&lt;p&gt;Хочется обратить внимание транспортного отд...</td>\n",
       "      <td>Нарушение графика движения при осуществлении м...</td>\n",
       "    </tr>\n",
       "  </tbody>\n",
       "</table>\n",
       "</div>"
      ],
      "text/plain": [
       "                                         description  \\\n",
       "0  <p>первый подъезд, не убирают от слова совсем!...   \n",
       "1  <p>Дорожное покрытие внутридворовой дороги по ...   \n",
       "2  <p>Добрый день, в п. Батрацкая Дача очень редк...   \n",
       "3  <p>Добрый день. &nbsp;В доме по адресу Садовая...   \n",
       "4  <p>Хочется обратить внимание транспортного отд...   \n",
       "\n",
       "                                                name  \n",
       "0  Несвоевременная (некачественная) уборка мест о...  \n",
       "1  Нарушено дорожное покрытие (ямы) на дорогах в ...  \n",
       "2  Несвоевременная (некачественная) очистка дворо...  \n",
       "3  Длительное неисполнение заявок управляющей ком...  \n",
       "4  Нарушение графика движения при осуществлении м...  "
      ]
     },
     "execution_count": 51,
     "metadata": {},
     "output_type": "execute_result"
    }
   ],
   "source": [
    "data_frame = pandas.read_excel('text.xlsx')\n",
    "data_frame.head()"
   ]
  },
  {
   "attachments": {},
   "cell_type": "markdown",
   "metadata": {},
   "source": [
    "## Функция удаления тегов и посторонних символов"
   ]
  },
  {
   "cell_type": "code",
   "execution_count": 52,
   "metadata": {},
   "outputs": [],
   "source": [
    "CLEANR = re.compile('<.*?>|&([a-z0-9]+|#[0-9]{1,6}|#x[0-9a-f]{1,6});')\n",
    "def cleanhtml(raw_html):\n",
    "  cleantext = re.sub(CLEANR, '', raw_html)\n",
    "  return cleantext"
   ]
  },
  {
   "attachments": {},
   "cell_type": "markdown",
   "metadata": {},
   "source": [
    "## Формирование набора данных, удаление пропущенных строк и объединение строк, а также перемешивание данных"
   ]
  },
  {
   "cell_type": "code",
   "execution_count": 53,
   "metadata": {},
   "outputs": [],
   "source": [
    "data = []\n",
    "for index in range(len(data_frame)):\n",
    "    try:\n",
    "        if math.isnan(data_frame.name[index]):\n",
    "            try:\n",
    "                if math.isnan(data_frame.description[index]):\n",
    "                    continue\n",
    "            except:\n",
    "                val+=cleanhtml(data_frame.description[index])\n",
    "    except:\n",
    "        if index > 0:\n",
    "            data.append([val,label])\n",
    "        label = cleanhtml(data_frame.name[index])\n",
    "        val = cleanhtml(data_frame.description[index])\n",
    "data.append([val,label])\n",
    "random.shuffle(data)\n",
    "descriptions = []\n",
    "labels = []\n",
    "for line in data:\n",
    "    descriptions.append(line[0])\n",
    "    labels.append(line[1])\n",
    "\n"
   ]
  },
  {
   "cell_type": "code",
   "execution_count": 54,
   "metadata": {},
   "outputs": [
    {
     "name": "stdout",
     "output_type": "stream",
     "text": [
      "9981\n",
      "9465\n",
      "9465\n"
     ]
    }
   ],
   "source": [
    "print(len(data_frame))\n",
    "print(len(descriptions))\n",
    "print(len(labels))"
   ]
  },
  {
   "attachments": {},
   "cell_type": "markdown",
   "metadata": {},
   "source": [
    "## Создание словаря категорий"
   ]
  },
  {
   "cell_type": "code",
   "execution_count": 55,
   "metadata": {},
   "outputs": [
    {
     "name": "stdout",
     "output_type": "stream",
     "text": [
      "Количество уникальных меток 161\n"
     ]
    }
   ],
   "source": [
    "label_dictionary = {}\n",
    "for label in labels:\n",
    "    if label not in label_dictionary:\n",
    "        label_dictionary[label]=len(label_dictionary)\n",
    "\n",
    "size_of_label = len(label_dictionary)\n",
    "print('Количество уникальных меток', size_of_label)"
   ]
  },
  {
   "attachments": {},
   "cell_type": "markdown",
   "metadata": {},
   "source": [
    "## Формирование набора меток по категориям"
   ]
  },
  {
   "cell_type": "code",
   "execution_count": 56,
   "metadata": {},
   "outputs": [
    {
     "name": "stdout",
     "output_type": "stream",
     "text": [
      "[0 1 2 1 1 1 3 4 1 5]\n",
      "(9465,)\n"
     ]
    }
   ],
   "source": [
    "categorical_labels = []\n",
    "for label in labels:\n",
    "    categorical_labels.append(label_dictionary[label])\n",
    "\n",
    "\n",
    "categorical_labels=np.array(categorical_labels)\n",
    "print(categorical_labels[:10])\n",
    "print(categorical_labels.shape)"
   ]
  },
  {
   "attachments": {},
   "cell_type": "markdown",
   "metadata": {},
   "source": [
    "## Формирование обучающего и проверочного набора данных"
   ]
  },
  {
   "cell_type": "code",
   "execution_count": 57,
   "metadata": {},
   "outputs": [
    {
     "name": "stdout",
     "output_type": "stream",
     "text": [
      "6625\n",
      "6625\n",
      "2840\n",
      "2840\n"
     ]
    }
   ],
   "source": [
    "train_size = int(len(descriptions) * training_portion)\n",
    "\n",
    "train_descriptions = descriptions[0: train_size]\n",
    "train_labels = categorical_labels[0: train_size]\n",
    "\n",
    "validation_descriptions= descriptions[train_size:]\n",
    "validation_labels = categorical_labels[train_size:]\n",
    "\n",
    "\n",
    "print(len(train_descriptions))\n",
    "print(len(train_labels))\n",
    "print(len(validation_descriptions))\n",
    "print(len(validation_labels))"
   ]
  },
  {
   "attachments": {},
   "cell_type": "markdown",
   "metadata": {},
   "source": [
    "## Токенизация данных"
   ]
  },
  {
   "cell_type": "code",
   "execution_count": 58,
   "metadata": {},
   "outputs": [
    {
     "data": {
      "text/plain": [
       "{'<word>': 1, 'и': 2, 'на': 3, 'в': 4, 'необходимо': 5}"
      ]
     },
     "execution_count": 58,
     "metadata": {},
     "output_type": "execute_result"
    }
   ],
   "source": [
    "description_tokenizer = Tokenizer(num_words = vocab_size, oov_token=oov_tok)\n",
    "description_tokenizer.fit_on_texts(train_descriptions)\n",
    "description_word_index = description_tokenizer.word_index\n",
    "dict(list(description_word_index.items())[0:5])"
   ]
  },
  {
   "cell_type": "code",
   "execution_count": 59,
   "metadata": {},
   "outputs": [
    {
     "name": "stdout",
     "output_type": "stream",
     "text": [
      "[[1395, 1, 236, 1, 1396, 1, 945, 99, 3149, 1, 1, 1, 1, 303, 571, 1909, 21, 333, 2838, 1791, 748, 1, 1, 1, 1, 1, 1, 252, 1, 1, 246, 1, 1, 2, 34, 1910, 1, 1397, 1, 1, 1, 106, 1, 1, 100, 216, 236, 112, 2190, 1147, 1, 255, 1792, 430, 1, 1002, 1, 1003, 465, 1, 2343, 1534, 190, 1, 1, 253, 1, 1, 1535, 2584, 1148, 670, 1, 99, 1334, 3567, 481, 371, 1, 945, 99, 1, 1, 3568, 1, 1, 113, 236, 112, 1, 30, 1457, 769, 1, 372, 30, 1, 1, 670, 142, 489, 1, 223, 489, 945, 99, 135, 611, 1, 1237, 1, 1335, 1, 1149, 1, 20, 1, 227, 1, 93, 1, 2585, 792, 3567, 893, 1, 1911, 1, 1, 402, 1, 1, 82, 1, 112, 1074, 27, 918, 84, 174, 1, 1, 1536, 1, 1, 1, 1, 490, 61, 345, 179, 1, 1, 227, 1, 1, 2344, 893, 167, 269, 1074, 1, 1, 402, 1, 1, 1690], [5, 793, 7, 20, 45, 18, 39, 13, 19, 3, 290, 2, 31, 10, 53, 8, 749]]\n"
     ]
    }
   ],
   "source": [
    "train_sequences = description_tokenizer.texts_to_sequences(train_descriptions)\n",
    "print(train_sequences[:2])"
   ]
  },
  {
   "cell_type": "code",
   "execution_count": 60,
   "metadata": {},
   "outputs": [
    {
     "name": "stdout",
     "output_type": "stream",
     "text": [
      "167\n",
      "200\n",
      "6625\n",
      "(6625, 200)\n"
     ]
    }
   ],
   "source": [
    "train_padded = pad_sequences(train_sequences, maxlen=max_length, padding=padding_type, truncating=trunc_type)\n",
    "print(len(train_sequences[0]))\n",
    "print(len(train_padded[0]))\n",
    "print(len(train_padded))\n",
    "print(train_padded.shape)"
   ]
  },
  {
   "cell_type": "code",
   "execution_count": 61,
   "metadata": {},
   "outputs": [
    {
     "name": "stdout",
     "output_type": "stream",
     "text": [
      "2840\n",
      "(2840, 200)\n"
     ]
    }
   ],
   "source": [
    "validation_sequences = description_tokenizer.texts_to_sequences(validation_descriptions)\n",
    "validation_padded = pad_sequences(validation_sequences, maxlen=max_length, padding=padding_type, truncating=trunc_type)\n",
    "\n",
    "print(len(validation_sequences))\n",
    "print(validation_padded.shape)"
   ]
  },
  {
   "cell_type": "code",
   "execution_count": 62,
   "metadata": {},
   "outputs": [
    {
     "name": "stdout",
     "output_type": "stream",
     "text": [
      "[0 1 2]\n"
     ]
    }
   ],
   "source": [
    "print(train_labels[:3])"
   ]
  },
  {
   "attachments": {},
   "cell_type": "markdown",
   "metadata": {},
   "source": [
    "## Проверка, процесс декодирования"
   ]
  },
  {
   "cell_type": "code",
   "execution_count": 63,
   "metadata": {},
   "outputs": [
    {
     "name": "stdout",
     "output_type": "stream",
     "text": [
      "необходимо очистить от мусора фасад а также закрасить надписи на дверях и фасаде дома 3 улицы гостёнской ? ? ? ? ? ? ? ? ? ? ? ? ? ? ? ? ? ? ? ? ? ? ? ? ? ? ? ? ? ? ? ? ? ? ? ? ? ? ? ? ? ? ? ? ? ? ? ? ? ? ? ? ? ? ? ? ? ? ? ? ? ? ? ? ? ? ? ? ? ? ? ? ? ? ? ? ? ? ? ? ? ? ? ? ? ? ? ? ? ? ? ? ? ? ? ? ? ? ? ? ? ? ? ? ? ? ? ? ? ? ? ? ? ? ? ? ? ? ? ? ? ? ? ? ? ? ? ? ? ? ? ? ? ? ? ? ? ? ? ? ? ? ? ? ? ? ? ? ? ? ? ? ? ? ? ? ? ? ? ? ? ? ? ? ? ? ? ? ? ? ? ? ? ? ? ? ? ? ? ? ? ? ?\n",
      "---\n",
      "Необходимо очистить от мусора фасад, а также закрасить надписи на дверях и фасаде дома 3 улицы Гостёнской.\n"
     ]
    }
   ],
   "source": [
    "reverse_word_index = dict([(value, key) for (key, value) in description_word_index.items()])\n",
    "\n",
    "def decode_article(text):\n",
    "    return ' '.join([reverse_word_index.get(i, '?') for i in text])\n",
    "print(decode_article(train_padded[1]))\n",
    "print('---')\n",
    "print(train_descriptions[1])"
   ]
  },
  {
   "attachments": {},
   "cell_type": "markdown",
   "metadata": {},
   "source": [
    "## Создание обучающей модели"
   ]
  },
  {
   "cell_type": "code",
   "execution_count": 64,
   "metadata": {},
   "outputs": [
    {
     "name": "stdout",
     "output_type": "stream",
     "text": [
      "Model: \"sequential_1\"\n",
      "_________________________________________________________________\n",
      " Layer (type)                Output Shape              Param #   \n",
      "=================================================================\n",
      " embedding_1 (Embedding)     (None, None, 128)         512000    \n",
      "                                                                 \n",
      " bidirectional_1 (Bidirectio  (None, 256)              263168    \n",
      " nal)                                                            \n",
      "                                                                 \n",
      " dense_2 (Dense)             (None, 128)               32896     \n",
      "                                                                 \n",
      " dense_3 (Dense)             (None, 161)               20769     \n",
      "                                                                 \n",
      "=================================================================\n",
      "Total params: 828,833\n",
      "Trainable params: 828,833\n",
      "Non-trainable params: 0\n",
      "_________________________________________________________________\n"
     ]
    }
   ],
   "source": [
    "model = tf.keras.Sequential([\n",
    "    tf.keras.layers.Embedding(vocab_size, embedding_dim),\n",
    "    tf.keras.layers.Bidirectional(tf.keras.layers.LSTM(embedding_dim)),\n",
    "    tf.keras.layers.Dense(embedding_dim, activation='relu'),\n",
    "    tf.keras.layers.Dense(size_of_label, activation='softmax')\n",
    "])\n",
    "model.summary()"
   ]
  },
  {
   "attachments": {},
   "cell_type": "markdown",
   "metadata": {},
   "source": [
    "## Компиляция и обучение модели"
   ]
  },
  {
   "cell_type": "code",
   "execution_count": 65,
   "metadata": {},
   "outputs": [
    {
     "name": "stdout",
     "output_type": "stream",
     "text": [
      "Epoch 1/20\n",
      "208/208 - 77s - loss: 2.0639 - accuracy: 0.5998 - val_loss: 1.7239 - val_accuracy: 0.6099 - 77s/epoch - 371ms/step\n",
      "Epoch 2/20\n",
      "208/208 - 76s - loss: 1.6506 - accuracy: 0.6245 - val_loss: 1.6734 - val_accuracy: 0.6197 - 76s/epoch - 364ms/step\n",
      "Epoch 3/20\n",
      "208/208 - 75s - loss: 1.5052 - accuracy: 0.6485 - val_loss: 1.5913 - val_accuracy: 0.6514 - 75s/epoch - 360ms/step\n",
      "Epoch 4/20\n",
      "208/208 - 72s - loss: 1.3240 - accuracy: 0.6871 - val_loss: 1.4865 - val_accuracy: 0.6711 - 72s/epoch - 344ms/step\n",
      "Epoch 5/20\n",
      "208/208 - 72s - loss: 1.1370 - accuracy: 0.7232 - val_loss: 1.4566 - val_accuracy: 0.6810 - 72s/epoch - 347ms/step\n",
      "Epoch 6/20\n",
      "208/208 - 72s - loss: 0.9886 - accuracy: 0.7526 - val_loss: 1.4172 - val_accuracy: 0.7000 - 72s/epoch - 348ms/step\n",
      "Epoch 7/20\n",
      "208/208 - 77s - loss: 0.8525 - accuracy: 0.7804 - val_loss: 1.5256 - val_accuracy: 0.7028 - 77s/epoch - 372ms/step\n",
      "Epoch 8/20\n",
      "208/208 - 74s - loss: 0.7485 - accuracy: 0.8006 - val_loss: 1.5608 - val_accuracy: 0.7046 - 74s/epoch - 358ms/step\n",
      "Epoch 9/20\n",
      "208/208 - 70s - loss: 0.6581 - accuracy: 0.8255 - val_loss: 1.5935 - val_accuracy: 0.7092 - 70s/epoch - 337ms/step\n",
      "Epoch 10/20\n",
      "208/208 - 77s - loss: 0.5678 - accuracy: 0.8421 - val_loss: 1.7051 - val_accuracy: 0.7077 - 77s/epoch - 369ms/step\n",
      "Epoch 11/20\n",
      "208/208 - 72s - loss: 0.4767 - accuracy: 0.8693 - val_loss: 1.8719 - val_accuracy: 0.7077 - 72s/epoch - 348ms/step\n",
      "Epoch 12/20\n",
      "208/208 - 76s - loss: 0.3996 - accuracy: 0.8869 - val_loss: 2.0750 - val_accuracy: 0.6965 - 76s/epoch - 365ms/step\n",
      "Epoch 13/20\n",
      "208/208 - 68s - loss: 0.4127 - accuracy: 0.8872 - val_loss: 2.1215 - val_accuracy: 0.6887 - 68s/epoch - 328ms/step\n",
      "Epoch 14/20\n",
      "208/208 - 73s - loss: 0.3044 - accuracy: 0.9156 - val_loss: 2.2615 - val_accuracy: 0.7004 - 73s/epoch - 351ms/step\n",
      "Epoch 15/20\n",
      "208/208 - 76s - loss: 0.2669 - accuracy: 0.9245 - val_loss: 2.4259 - val_accuracy: 0.7004 - 76s/epoch - 365ms/step\n",
      "Epoch 16/20\n",
      "208/208 - 72s - loss: 0.2314 - accuracy: 0.9325 - val_loss: 2.5970 - val_accuracy: 0.6982 - 72s/epoch - 345ms/step\n",
      "Epoch 17/20\n",
      "208/208 - 71s - loss: 0.1703 - accuracy: 0.9512 - val_loss: 2.6677 - val_accuracy: 0.7018 - 71s/epoch - 341ms/step\n",
      "Epoch 18/20\n",
      "208/208 - 85s - loss: 0.1475 - accuracy: 0.9600 - val_loss: 2.8495 - val_accuracy: 0.6877 - 85s/epoch - 409ms/step\n",
      "Epoch 19/20\n",
      "208/208 - 74s - loss: 0.1205 - accuracy: 0.9692 - val_loss: 3.0775 - val_accuracy: 0.6975 - 74s/epoch - 358ms/step\n",
      "Epoch 20/20\n",
      "208/208 - 74s - loss: 0.1043 - accuracy: 0.9694 - val_loss: 3.1948 - val_accuracy: 0.6996 - 74s/epoch - 356ms/step\n"
     ]
    }
   ],
   "source": [
    "model.compile(loss='sparse_categorical_crossentropy', optimizer='adam', metrics=['accuracy'])\n",
    "history = model.fit(train_padded, train_labels, epochs=num_epochs, validation_data=(validation_padded, validation_labels), verbose=2)"
   ]
  },
  {
   "attachments": {},
   "cell_type": "markdown",
   "metadata": {},
   "source": [
    "## Вывод графического результата"
   ]
  },
  {
   "cell_type": "code",
   "execution_count": 66,
   "metadata": {},
   "outputs": [
    {
     "data": {
      "image/png": "[encoded data removed]",
      "text/plain": [
       "<Figure size 640x480 with 1 Axes>"
      ]
     },
     "metadata": {},
     "output_type": "display_data"
    },
    {
     "data": {
      "image/png": "[encoded data removed]",
      "text/plain": [
       "<Figure size 640x480 with 1 Axes>"
      ]
     },
     "metadata": {},
     "output_type": "display_data"
    }
   ],
   "source": [
    "def plot_graphs(history, string):\n",
    " plt.plot(history.history[string])\n",
    " plt.plot(history.history['val_'+string])\n",
    " plt.xlabel(\"Epochs\")\n",
    " plt.ylabel(string)\n",
    " plt.legend([string, 'val_'+string])\n",
    " plt.show()\n",
    "  \n",
    "plot_graphs(history, \"accuracy\")\n",
    "plot_graphs(history, \"loss\")"
   ]
  },
  {
   "attachments": {},
   "cell_type": "markdown",
   "metadata": {},
   "source": [
    "## Выводы\n",
    "Анализируя графики зависимостей точности модели при обучении и проверке можно сделать вывод что модель может предсказать результат на реальных данных с вероятностью не более 70 процентов. Думаю это связано с наличием в тексте пустых слов, которые не несут большой смысловой нагрузки (я их не убрал из такста, таки слова как предлоги и др.). При этом на мой взгляд при длительном обучении модели происходит переобучение, о чем говрорит возрастьание потерь на следующем графике."
   ]
  },
  {
   "cell_type": "code",
   "execution_count": 68,
   "metadata": {},
   "outputs": [],
   "source": [
    "check_descriptions = []\n",
    "check_padded = []\n",
    "check_labels = []\n",
    "for i in range(3):\n",
    "    index=random.randint(0,len(validation_descriptions))\n",
    "    check_descriptions.append(validation_descriptions[index])\n",
    "    check_padded.append(validation_padded[index])\n",
    "    check_labels.append(validation_labels[index])\n"
   ]
  },
  {
   "cell_type": "code",
   "execution_count": 84,
   "metadata": {},
   "outputs": [
    {
     "name": "stdout",
     "output_type": "stream",
     "text": [
      "1/1 [==============================] - 0s 75ms/step\n",
      "predictions shape: (3, 161)\n"
     ]
    }
   ],
   "source": [
    "check_padded=np.array(check_padded)\n",
    "predictions = model.predict(check_padded)\n",
    "print(\"predictions shape:\", predictions.shape)\n",
    "\n"
   ]
  },
  {
   "cell_type": "code",
   "execution_count": 124,
   "metadata": {},
   "outputs": [
    {
     "name": "stdout",
     "output_type": "stream",
     "text": [
      "java\n",
      "[(1.0, 1), (7.8134486e-09, 15), (1.1740338e-09, 30), (5.8105026e-10, 42), (6.821221e-11, 21), (3.2472698e-11, 5)]\n",
      "[(0.99999535, 2), (3.2718517e-06, 32), (1.3787542e-06, 5), (9.90833e-08, 29), (6.007766e-09, 70), (5.2377986e-09, 72)]\n",
      "[(0.99999964, 1), (2.6756257e-07, 15), (1.3108223e-07, 42), (5.315497e-09, 12), (3.2622767e-09, 44), (3.0103988e-09, 14)]\n"
     ]
    }
   ],
   "source": [
    "def custom_key(val): \n",
    "    return val[0] \n",
    "\n",
    "result_dict = []\n",
    "for one_predict in predictions:\n",
    "    one_dict = []\n",
    "    for index, values in enumerate(one_predict):              \n",
    "        one_dict.append((values,index))\n",
    "    one_dict.sort(key=custom_key,reverse=True)\n",
    "    result_dict.append(one_dict)\n",
    "    print(one_dict[:6])\n",
    "\n"
   ]
  },
  {
   "cell_type": "code",
   "execution_count": 135,
   "metadata": {},
   "outputs": [
    {
     "name": "stdout",
     "output_type": "stream",
     "text": [
      "Тест: 1\n",
      "Первоначальный запрос: Необходимо отмыть от надписей и рисунков афишу рядом с домом 5Б проспекта Ватутина (50.577139° 36.583421°).\n",
      "По результам нейронной сети данное собщение относиться к группе: 1 с вероятностью:  1.0\n",
      "Истинная категория: 1 Полученная категория:  1\n",
      "Категрия данного вердикта по классификатору: Неудовлетворительное содержание фасадов зданий и сооружений, общественных мест\n",
      "\n",
      "------------------------\n",
      "Тест: 2\n",
      "Первоначальный запрос: Наул. Есенина врайоне д.8 передперекрёстком с ул. Щорса в г.Белгороде установка дорожных знаков несоответствует требованиям п. 5.1.8 «ГОСТ Р 52289–2019. Национальный стандарт Российской Федерации. Технические средства организации дорожного движения. Правила применения дорожных знаков, разметки, светофоров, дорожных ограждений инаправляющих устройств» дорожный знак приоритета 2.4 «Уступи дорогу» должен быть установлен выше предписывающего дорожного знака 4.1.5. «Движение прямо и налево».Очередность размещения знаков разных групп наодной опоре сверху вниз должна быть следующей:— знаки приоритета;— предупреждающие знаки;— предписывающие знаки;— знаки особых предписаний;— ЗАПРЕЩАЮЩИЕ знаки;— ИНФОРМАЦИОННЫЕ знаки;— знаки сервиса.\n",
      "По результам нейронной сети данное собщение относиться к группе: 2 с вероятностью:  0.99999535\n",
      "Истинная категория: 2 Полученная категория:  2\n",
      "Категрия данного вердикта по классификатору: Необходима установка (замена) дорожных знаков на дорогах в границах городских округов и сельских поселений\n",
      "\n",
      "------------------------\n",
      "Тест: 3\n",
      "Первоначальный запрос: Необходимо отмыть от мусора киоск рядом с домом 131 проспекта Славы (50.600271 36.566599).\n",
      "По результам нейронной сети данное собщение относиться к группе: 1 с вероятностью:  0.99999964\n",
      "Истинная категория: 1 Полученная категория:  1\n",
      "Категрия данного вердикта по классификатору: Неудовлетворительное содержание фасадов зданий и сооружений, общественных мест\n",
      "\n",
      "------------------------\n"
     ]
    }
   ],
   "source": [
    "key_list = list(label_dictionary.keys())\n",
    "val_list = list(label_dictionary.values())\n",
    "for index, messege in enumerate(check_descriptions):\n",
    "    print('Тест:', index+1)\n",
    "    print('Первоначальный запрос:', messege)\n",
    "    print('По результам нейронной сети данное собщение относиться к группе:', result_dict[index][0][1], 'с вероятностью: ', result_dict[index][0][0])\n",
    "    print('Истинная категория:', check_labels[index], 'Полученная категория: ', result_dict[index][0][1])\n",
    "    print('Категрия данного вердикта по классификатору:', key_list[val_list.index(result_dict[index][0][1])])\n",
    "    print('')\n",
    "    print('------------------------')\n"
   ]
  }
 ],
 "metadata": {
  "kernelspec": {
   "display_name": ".venv",
   "language": "python",
   "name": "python3"
  },
  "language_info": {
   "codemirror_mode": {
    "name": "ipython",
    "version": 3
   },
   "file_extension": ".py",
   "mimetype": "text/x-python",
   "name": "python",
   "nbconvert_exporter": "python",
   "pygments_lexer": "ipython3",
   "version": "3.10.2"
  },
  "orig_nbformat": 4,
  "vscode": {
   "interpreter": {
    "hash": "f6d60c7869343096bcf795f5fa0ddddd5115b547a3fcd73c4c7ea12b2eb5ff31"
   }
  }
 },
 "nbformat": 4,
 "nbformat_minor": 2
}
